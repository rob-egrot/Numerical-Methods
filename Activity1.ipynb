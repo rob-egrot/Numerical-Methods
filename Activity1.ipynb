{
 "cells": [
  {
   "cell_type": "markdown",
   "metadata": {},
   "source": [
    "## Numerical Methods\n",
    "### Activity 1: Simple Linear Regression"
   ]
  },
  {
   "cell_type": "markdown",
   "metadata": {},
   "source": [
    "First load the data into a pandas dataframe and display it. Our data is from a scientific paper from 1905 which compared head size to brain weight (people were interested in that kind of thing back then)."
   ]
  },
  {
   "cell_type": "code",
   "execution_count": 1,
   "metadata": {},
   "outputs": [
    {
     "data": {
      "text/html": [
       "<div>\n",
       "<style scoped>\n",
       "    .dataframe tbody tr th:only-of-type {\n",
       "        vertical-align: middle;\n",
       "    }\n",
       "\n",
       "    .dataframe tbody tr th {\n",
       "        vertical-align: top;\n",
       "    }\n",
       "\n",
       "    .dataframe thead th {\n",
       "        text-align: right;\n",
       "    }\n",
       "</style>\n",
       "<table border=\"1\" class=\"dataframe\">\n",
       "  <thead>\n",
       "    <tr style=\"text-align: right;\">\n",
       "      <th></th>\n",
       "      <th>Gender (1 = M, 2 = F)</th>\n",
       "      <th>Age (1 = 20-46, 2 = 46+)</th>\n",
       "      <th>Head size (cm^3)</th>\n",
       "      <th>Brain weight (g)</th>\n",
       "    </tr>\n",
       "  </thead>\n",
       "  <tbody>\n",
       "    <tr>\n",
       "      <th>0</th>\n",
       "      <td>1</td>\n",
       "      <td>1</td>\n",
       "      <td>4512</td>\n",
       "      <td>1530</td>\n",
       "    </tr>\n",
       "    <tr>\n",
       "      <th>1</th>\n",
       "      <td>1</td>\n",
       "      <td>1</td>\n",
       "      <td>3738</td>\n",
       "      <td>1297</td>\n",
       "    </tr>\n",
       "    <tr>\n",
       "      <th>2</th>\n",
       "      <td>1</td>\n",
       "      <td>1</td>\n",
       "      <td>4261</td>\n",
       "      <td>1335</td>\n",
       "    </tr>\n",
       "    <tr>\n",
       "      <th>3</th>\n",
       "      <td>1</td>\n",
       "      <td>1</td>\n",
       "      <td>3777</td>\n",
       "      <td>1282</td>\n",
       "    </tr>\n",
       "    <tr>\n",
       "      <th>4</th>\n",
       "      <td>1</td>\n",
       "      <td>1</td>\n",
       "      <td>4177</td>\n",
       "      <td>1590</td>\n",
       "    </tr>\n",
       "    <tr>\n",
       "      <th>...</th>\n",
       "      <td>...</td>\n",
       "      <td>...</td>\n",
       "      <td>...</td>\n",
       "      <td>...</td>\n",
       "    </tr>\n",
       "    <tr>\n",
       "      <th>232</th>\n",
       "      <td>2</td>\n",
       "      <td>2</td>\n",
       "      <td>3214</td>\n",
       "      <td>1110</td>\n",
       "    </tr>\n",
       "    <tr>\n",
       "      <th>233</th>\n",
       "      <td>2</td>\n",
       "      <td>2</td>\n",
       "      <td>3394</td>\n",
       "      <td>1215</td>\n",
       "    </tr>\n",
       "    <tr>\n",
       "      <th>234</th>\n",
       "      <td>2</td>\n",
       "      <td>2</td>\n",
       "      <td>3233</td>\n",
       "      <td>1104</td>\n",
       "    </tr>\n",
       "    <tr>\n",
       "      <th>235</th>\n",
       "      <td>2</td>\n",
       "      <td>2</td>\n",
       "      <td>3352</td>\n",
       "      <td>1170</td>\n",
       "    </tr>\n",
       "    <tr>\n",
       "      <th>236</th>\n",
       "      <td>2</td>\n",
       "      <td>2</td>\n",
       "      <td>3391</td>\n",
       "      <td>1120</td>\n",
       "    </tr>\n",
       "  </tbody>\n",
       "</table>\n",
       "<p>237 rows × 4 columns</p>\n",
       "</div>"
      ],
      "text/plain": [
       "     Gender (1 = M, 2 = F)  Age (1 = 20-46, 2 = 46+)  Head size (cm^3)  \\\n",
       "0                        1                         1              4512   \n",
       "1                        1                         1              3738   \n",
       "2                        1                         1              4261   \n",
       "3                        1                         1              3777   \n",
       "4                        1                         1              4177   \n",
       "..                     ...                       ...               ...   \n",
       "232                      2                         2              3214   \n",
       "233                      2                         2              3394   \n",
       "234                      2                         2              3233   \n",
       "235                      2                         2              3352   \n",
       "236                      2                         2              3391   \n",
       "\n",
       "     Brain weight (g)  \n",
       "0                1530  \n",
       "1                1297  \n",
       "2                1335  \n",
       "3                1282  \n",
       "4                1590  \n",
       "..                ...  \n",
       "232              1110  \n",
       "233              1215  \n",
       "234              1104  \n",
       "235              1170  \n",
       "236              1120  \n",
       "\n",
       "[237 rows x 4 columns]"
      ]
     },
     "metadata": {},
     "output_type": "display_data"
    },
    {
     "data": {
      "text/html": [
       "<div>\n",
       "<style scoped>\n",
       "    .dataframe tbody tr th:only-of-type {\n",
       "        vertical-align: middle;\n",
       "    }\n",
       "\n",
       "    .dataframe tbody tr th {\n",
       "        vertical-align: top;\n",
       "    }\n",
       "\n",
       "    .dataframe thead th {\n",
       "        text-align: right;\n",
       "    }\n",
       "</style>\n",
       "<table border=\"1\" class=\"dataframe\">\n",
       "  <thead>\n",
       "    <tr style=\"text-align: right;\">\n",
       "      <th></th>\n",
       "      <th>Gender (1 = M, 2 = F)</th>\n",
       "      <th>Age (1 = 20-46, 2 = 46+)</th>\n",
       "      <th>Head size (cm^3)</th>\n",
       "      <th>Brain weight (g)</th>\n",
       "    </tr>\n",
       "  </thead>\n",
       "  <tbody>\n",
       "    <tr>\n",
       "      <th>count</th>\n",
       "      <td>237.000000</td>\n",
       "      <td>237.000000</td>\n",
       "      <td>237.000000</td>\n",
       "      <td>237.000000</td>\n",
       "    </tr>\n",
       "    <tr>\n",
       "      <th>mean</th>\n",
       "      <td>1.434599</td>\n",
       "      <td>1.535865</td>\n",
       "      <td>3633.991561</td>\n",
       "      <td>1282.873418</td>\n",
       "    </tr>\n",
       "    <tr>\n",
       "      <th>std</th>\n",
       "      <td>0.496753</td>\n",
       "      <td>0.499768</td>\n",
       "      <td>365.261422</td>\n",
       "      <td>120.340446</td>\n",
       "    </tr>\n",
       "    <tr>\n",
       "      <th>min</th>\n",
       "      <td>1.000000</td>\n",
       "      <td>1.000000</td>\n",
       "      <td>2720.000000</td>\n",
       "      <td>955.000000</td>\n",
       "    </tr>\n",
       "    <tr>\n",
       "      <th>25%</th>\n",
       "      <td>1.000000</td>\n",
       "      <td>1.000000</td>\n",
       "      <td>3389.000000</td>\n",
       "      <td>1207.000000</td>\n",
       "    </tr>\n",
       "    <tr>\n",
       "      <th>50%</th>\n",
       "      <td>1.000000</td>\n",
       "      <td>2.000000</td>\n",
       "      <td>3614.000000</td>\n",
       "      <td>1280.000000</td>\n",
       "    </tr>\n",
       "    <tr>\n",
       "      <th>75%</th>\n",
       "      <td>2.000000</td>\n",
       "      <td>2.000000</td>\n",
       "      <td>3876.000000</td>\n",
       "      <td>1350.000000</td>\n",
       "    </tr>\n",
       "    <tr>\n",
       "      <th>max</th>\n",
       "      <td>2.000000</td>\n",
       "      <td>2.000000</td>\n",
       "      <td>4747.000000</td>\n",
       "      <td>1635.000000</td>\n",
       "    </tr>\n",
       "  </tbody>\n",
       "</table>\n",
       "</div>"
      ],
      "text/plain": [
       "       Gender (1 = M, 2 = F)  Age (1 = 20-46, 2 = 46+)  Head size (cm^3)  \\\n",
       "count             237.000000                237.000000        237.000000   \n",
       "mean                1.434599                  1.535865       3633.991561   \n",
       "std                 0.496753                  0.499768        365.261422   \n",
       "min                 1.000000                  1.000000       2720.000000   \n",
       "25%                 1.000000                  1.000000       3389.000000   \n",
       "50%                 1.000000                  2.000000       3614.000000   \n",
       "75%                 2.000000                  2.000000       3876.000000   \n",
       "max                 2.000000                  2.000000       4747.000000   \n",
       "\n",
       "       Brain weight (g)  \n",
       "count        237.000000  \n",
       "mean        1282.873418  \n",
       "std          120.340446  \n",
       "min          955.000000  \n",
       "25%         1207.000000  \n",
       "50%         1280.000000  \n",
       "75%         1350.000000  \n",
       "max         1635.000000  "
      ]
     },
     "execution_count": 1,
     "metadata": {},
     "output_type": "execute_result"
    }
   ],
   "source": [
    "%matplotlib notebook\n",
    "import pandas as pd\n",
    "df = pd.read_csv('brainhead.csv')\n",
    "display(df)\n",
    "df.describe()"
   ]
  },
  {
   "cell_type": "markdown",
   "metadata": {},
   "source": [
    "Pandas lets us generate histograms from dataframes. You can choose the number of bins (the default is 10), or explicitly define the bin boundaries."
   ]
  },
  {
   "cell_type": "code",
   "execution_count": null,
   "metadata": {},
   "outputs": [],
   "source": [
    "df.hist(column = 'Head size (cm^3)', grid = False, edgecolor='black', bins = 10)\n",
    "df.hist(column = 'Brain weight (g)', grid = False, edgecolor='black', bins = [900, 1100, 1300, 1500, 1700])"
   ]
  },
  {
   "cell_type": "markdown",
   "metadata": {},
   "source": [
    "With can set unequal bin widths if we like, and then draw a frequency density histogram. This takes slightly more work, as pandas will not directly draw this kind of histogram. Instead, we can get it to draw a 'normalized' frequency density histogram (i.e. total area sums to one). To obtain a frequency density histogram from this we must then relabel the y values."
   ]
  },
  {
   "cell_type": "code",
   "execution_count": null,
   "metadata": {},
   "outputs": [],
   "source": [
    "# This part creates a normed histogram figure.\n",
    "# We need to do a bit of backend work wth matplotlib, so we start by creating plot and ax objects seperately.\n",
    "\n",
    "import matplotlib.pyplot as plt\n",
    "import numpy as np\n",
    "\n",
    "fig, ax = plt.subplots()\n",
    "\n",
    "# This draws the normalized histogram onto ax.\n",
    "df.hist(column = 'Brain weight (g)', \n",
    "        grid = False, \n",
    "        density = True, \n",
    "        edgecolor='black', \n",
    "        bins = [900, 1100, 1200, 1300, 1400, 1700],\n",
    "        ax = ax)\n",
    "\n",
    "# This part relabels the y axis. We just have to multiply the default y tick values by 237 (the number of data points).\n",
    "labels = np.round(np.array(ax.get_yticks())*237,3)\n",
    "plt.yticks(ax.get_yticks(), labels)\n",
    "\n",
    "plt.show()\n"
   ]
  },
  {
   "cell_type": "markdown",
   "metadata": {},
   "source": [
    "We can also draw histograms 'by group'. In the example below, we plot the histograms for brain weight, dividing by gender."
   ]
  },
  {
   "cell_type": "code",
   "execution_count": null,
   "metadata": {},
   "outputs": [],
   "source": [
    "df.hist(by = 'Gender (1 = M, 2 = F)', edgecolor='black', column = 'Brain weight (g)', bins = 8)"
   ]
  },
  {
   "cell_type": "markdown",
   "metadata": {},
   "source": [
    "Now we'll extract the 'head size' and 'brain weight' data to get our x and y values for regression."
   ]
  },
  {
   "cell_type": "code",
   "execution_count": null,
   "metadata": {},
   "outputs": [],
   "source": [
    "# We have to extract the data from the columns we're interested in.\n",
    "# The regression method we'll be calling uses data in a weird format. \n",
    "# This is why x is formatted as a column vector and y as a row vector.\n",
    "# The reason for this format is that later in place of single x values we will be dealing with arrays of x values.\n",
    "\n",
    "x = np.array(df[['Head size (cm^3)']].values)\n",
    "y = np.array(df[['Brain weight (g)']].values.flatten())\n",
    "\n",
    "print(x)\n",
    "print(y)                 \n",
    "\n"
   ]
  },
  {
   "cell_type": "markdown",
   "metadata": {},
   "source": [
    "Now we can calculate the parameters of the regression line $a + bx$ for $x$ and $y$. We will do this using the scikit-learn library for python. This is one of the main tools in modern data analysis."
   ]
  },
  {
   "cell_type": "code",
   "execution_count": null,
   "metadata": {},
   "outputs": [],
   "source": [
    "from sklearn.linear_model import LinearRegression\n",
    "\n",
    "# First we create a linear regression object.\n",
    "model = LinearRegression()\n",
    "\n",
    "# Then we fit this object to our data.\n",
    "# Scikit-learn has a lot of tools for doing things like regression, and by design they all work this way.\n",
    "model.fit(x,y)\n",
    "\n",
    "# We can now extract the parameters of interest from the fitted model.\n",
    "a = model.intercept_\n",
    "b = model.coef_\n",
    "\n",
    "print('intercept:', a)\n",
    "print('slope:', b)"
   ]
  },
  {
   "cell_type": "markdown",
   "metadata": {},
   "source": [
    "We can also use the fitted model to predict values of $x$ given values of $y$."
   ]
  },
  {
   "cell_type": "code",
   "execution_count": null,
   "metadata": {},
   "outputs": [],
   "source": [
    "# We will predict the brain weight when the head sizes are 3500, 3700 and 4000\n",
    "# Note the input here is [[3500], [3700], [4000]]. \n",
    "\n",
    "predictions = model.predict([[3500], [3700], [4000]])\n",
    "for p in predictions:\n",
    "    print(p)"
   ]
  },
  {
   "cell_type": "markdown",
   "metadata": {},
   "source": [
    "We can also calculate $r^2$ and $s_{yx}$, to measure the goodness of fit."
   ]
  },
  {
   "cell_type": "code",
   "execution_count": null,
   "metadata": {},
   "outputs": [],
   "source": [
    "import math\n",
    "\n",
    "# r^2 is easy as sklearn has a built-in method to find it\n",
    "r2 = round(model.score(x, y),3)\n",
    "print('coefficient of determination (to 3 decimal places):', r2)\n",
    "\n",
    "# There's no built-in method for s_yx as far as I'm aware, but we can easily write our own.\n",
    "# This function takes the x and y values as array-like objects, the parameters of the best fit line, and the decimal places. \n",
    "def findSE(x_values, y_values, a, b, dp=3):\n",
    "    Sr = 0\n",
    "    for i in range(0, len(x_values)):\n",
    "        y = y_values[i]\n",
    "        x = x_values[i]\n",
    "        Sr += (y - a - b*x)**2\n",
    "    return round(math.sqrt(Sr/(len(y_values) - 2)),dp)\n",
    "\n",
    "# Here's another function that does the sdame thing using numpy's array arithmetic functionality internally. \n",
    "def findSE2(x_values, y_values, a, b, dp=3):\n",
    "    x = np.array(x_values)\n",
    "    y = np.array(y_values)\n",
    "    Sr = sum((y - a - b*x)**2)\n",
    "    return round(math.sqrt(Sr/(len(y_values) - 2)),dp)\n",
    "\n",
    "\n",
    "print('standard error of estimate (to 3 decimal places): {}'.format(findSE(x.flatten(),y,a,b)))\n",
    "print('alternative standard error of estimate calculation: {}'.format(findSE2(x.flatten(),y,a,b)))"
   ]
  },
  {
   "cell_type": "markdown",
   "metadata": {},
   "source": [
    "We can plot the regression line."
   ]
  },
  {
   "cell_type": "code",
   "execution_count": null,
   "metadata": {},
   "outputs": [],
   "source": [
    "import matplotlib.pyplot as plt\n",
    "\n",
    "fig, ax = plt.subplots() \n",
    "ax.scatter(x, y, c = 'orange')\n",
    "x_line = np.linspace(2700,4800,100)\n",
    "\n",
    "# To draw the regression line we will reformat the x_line so that it is appropriate for the 'predict' function\n",
    "y_line = model.predict(x_line[:,np.newaxis])\n",
    "plt.plot(x_line, y_line)\n",
    "ax.set_ylabel('Brain weight')\n",
    "ax.set_xlabel('Head size')\n",
    "plt.show()"
   ]
  },
  {
   "cell_type": "markdown",
   "metadata": {},
   "source": [
    "Our data is divided into male/female and into two categories based on age. Sometimes when we perform a regression analysis we can get a trend which does not exist or is even reversed if we break the data down into subcategories. You can google 'Simpson's paradox' to get more information about this. Here we perform our regression analysis seperately for men and women.\n"
   ]
  },
  {
   "cell_type": "code",
   "execution_count": null,
   "metadata": {},
   "outputs": [],
   "source": [
    "\n",
    "temp_x = np.array(df[['Gender (1 = M, 2 = F)','Head size (cm^3)']].values) \n",
    "M_x = []\n",
    "F_x = []\n",
    "for i in temp_x:\n",
    "    if i[0] == 1:\n",
    "        M_x.append([i[1]])\n",
    "    else:\n",
    "        F_x.append([i[1]])\n",
    "        \n",
    "temp_y = np.array(df[['Gender (1 = M, 2 = F)','Brain weight (g)']].values) \n",
    "M_y = []\n",
    "F_y = []\n",
    "for i in temp_y:\n",
    "    if i[0] == 1:\n",
    "        M_y.append(i[1])\n",
    "    else:\n",
    "        F_y.append(i[1])\n",
    "#print(M_x)\n",
    "#print(F_x)\n",
    "#print(M_y)\n",
    "#print(F_y)\n",
    "model_M = LinearRegression()\n",
    "model_M.fit(M_x,M_y)\n",
    "\n",
    "a_M = model_M.intercept_\n",
    "b_M = model_M.coef_[0]\n",
    "\n",
    "print('intercept for men:', a_M)\n",
    "print('slope for men:', b_M)\n",
    "\n",
    "r2_M = round(model_M.score(M_x, M_y),3)\n",
    "print('coefficient of determination for men:', r2_M)\n",
    "print('')\n",
    "\n",
    "model_F = LinearRegression()\n",
    "model_F.fit(F_x,F_y)\n",
    "\n",
    "a_F = model_F.intercept_\n",
    "b_F = model_F.coef_[0]\n",
    "\n",
    "print('intercept for women:', a_F)\n",
    "print('slope for women:', b_F)\n",
    "\n",
    "r2_F = round(model_F.score(F_x, F_y),3)\n",
    "print('coefficient of determination for women:', r2_F)"
   ]
  },
  {
   "cell_type": "markdown",
   "metadata": {},
   "source": [
    "Notice how the $r^2$ values for men and women are both smaller than the $r^2$ value calculated for the combined data. \n",
    "\n",
    "Now we draw graphs for men and women seperately."
   ]
  },
  {
   "cell_type": "code",
   "execution_count": null,
   "metadata": {},
   "outputs": [],
   "source": [
    "fig_M, ax_M = plt.subplots() \n",
    "ax_M.scatter(M_x, M_y, c = 'orange')\n",
    "x_line_m = np.linspace(2700,4800,100)\n",
    "y_line_m = model.predict(x_line_m[:,np.newaxis])\n",
    "plt.plot(x_line_m, y_line_m)\n",
    "ax_M.set_ylabel('Brain weight')\n",
    "ax_M.set_xlabel('Head size')\n",
    "ax_M.set_title('Men only')\n",
    "plt.show()\n",
    "\n",
    "\n",
    "fig_F, ax_F = plt.subplots() \n",
    "ax_F.scatter(F_x, F_y, c = 'orange')\n",
    "x_line_w = np.linspace(2700,4800,100)\n",
    "y_line_w = model.predict(x_line_w[:,np.newaxis])\n",
    "plt.plot(x_line_w, y_line_w)\n",
    "ax_F.set_ylabel('Brain weight')\n",
    "ax_F.set_xlabel('Head size')\n",
    "ax_F.set_title('Women only')\n",
    "plt.show()"
   ]
  },
  {
   "cell_type": "markdown",
   "metadata": {},
   "source": [
    "### Simple linear regression from scratch.\n",
    "Now you can code your own function for performing simple linear regression. In other words, you will not rely on scikit-learn.\n",
    "\n",
    "You can try to write a method that calculates the coefficients $a$,$b$ for the regression line $a + bx$. If you do this correctly, this cell should produce as output the plot for the regression line for the full dataset (as in the output of cell 5). You need to fill in the details here. This method should take an array of $x$ values and an array of $y$ values, and return the coefficients $a$,$b$ of the regression line. You only need to guarantee correct behaviour for correctly formatted data."
   ]
  },
  {
   "cell_type": "code",
   "execution_count": null,
   "metadata": {},
   "outputs": [],
   "source": [
    "def LR(x_values, y_values):\n",
    "    #TODO\n",
    "    return \n",
    "\n",
    "x1 = np.array(df[['Head size (cm^3)']].values.flatten())\n",
    "y1 = np.array(df[['Brain weight (g)']].values.flatten())\n",
    "\n",
    "a1, b1 = LR(x1,y1)\n",
    "\n",
    "fig1, ax1 = plt.subplots() \n",
    "ax1.scatter(x1, y1, c = 'orange')\n",
    "x_line1 = np.linspace(2700,4800,100)\n",
    "y_line1 = a1 + b1*x_line1\n",
    "plt.plot(x_line1, y_line1)\n",
    "ax1.set_ylabel('Brain weight')\n",
    "ax1.set_xlabel('Head size')\n",
    "plt.show()"
   ]
  },
  {
   "cell_type": "markdown",
   "metadata": {
    "tags": [
     "toggle"
    ]
   },
   "source": [
    "### Bonus: Histograms with matplotlib\n",
    "We can also use matplotlib alone to create histograms. This is very similar to the process using pandas, but without needing to create a dataframe first. There are also several other visualization libraries for python, e.g. ggplot, seaborn etc., and some of these are built on matplotlib, but we won't use those here."
   ]
  },
  {
   "cell_type": "code",
   "execution_count": null,
   "metadata": {},
   "outputs": [],
   "source": [
    "import matplotlib.pyplot as plt\n",
    "\n",
    "fig, ax = plt.subplots() \n",
    "\n",
    "data = [11,5,12,3,10,7,7,9,15,19,6,7,13,11,8,10,16,14,5,7]\n",
    "bins = [0,5,10,15,20]\n",
    "plt.hist(data, bins = bins, edgecolor='black',)\n",
    "plt.show()"
   ]
  },
  {
   "cell_type": "code",
   "execution_count": null,
   "metadata": {},
   "outputs": [],
   "source": []
  }
 ],
 "metadata": {
  "kernelspec": {
   "display_name": "Python 3 (ipykernel)",
   "language": "python",
   "name": "python3"
  },
  "language_info": {
   "codemirror_mode": {
    "name": "ipython",
    "version": 3
   },
   "file_extension": ".py",
   "mimetype": "text/x-python",
   "name": "python",
   "nbconvert_exporter": "python",
   "pygments_lexer": "ipython3",
   "version": "3.8.11"
  }
 },
 "nbformat": 4,
 "nbformat_minor": 4
}
