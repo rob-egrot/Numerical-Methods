{
 "cells": [
  {
   "cell_type": "markdown",
   "metadata": {},
   "source": [
    "## Numerical Methods\n",
    "### Activity 4: Splines"
   ]
  },
  {
   "cell_type": "markdown",
   "metadata": {},
   "source": [
    "Scipy has methods for interpolation we can use for splines"
   ]
  },
  {
   "cell_type": "code",
   "execution_count": null,
   "metadata": {},
   "outputs": [],
   "source": [
    "from scipy import interpolate as itp \n",
    "import numpy as np\n",
    "import matplotlib.pyplot as plt\n",
    "\n",
    "# Consider the example from the class.\n",
    "\n",
    "X = [3,4.5,7,9]\n",
    "Y = [2.5,1,2.5,0.5]\n",
    "\n",
    "\n",
    "# The interp1d method will take the X and Y data and return an interpolating spline function \n",
    "f = itp.interp1d(X, Y)\n",
    "f2 = itp.interp1d(X, Y, kind='quadratic')\n",
    "\n",
    "\n",
    "# f and f_2 are functions, and we can plot them using matplotlib\n",
    "x_line = np.linspace(3,9,100, endpoint = True)\n",
    "plt.plot(X, Y,  'o' , x_line, f(x_line), '--', x_line, f2(x_line), '-')\n",
    "plt.legend(['data', 'linear', 'quadratic'], loc='best')\n",
    "plt.show()\n",
    "\n"
   ]
  },
  {
   "cell_type": "markdown",
   "metadata": {},
   "source": [
    "Scipy also has other ways to find splines. Here's another example. The splrep method calculates splines for $X$ and $Y$ with degree $k$. "
   ]
  },
  {
   "cell_type": "code",
   "execution_count": null,
   "metadata": {},
   "outputs": [],
   "source": [
    "spl = itp.splrep(X, Y, k = 2)\n",
    "\n",
    "# If we print spl we see it's hard to interpret the output, though the value of k does appear at the end \n",
    "# (you can test this by changing k).\n",
    "print(spl)\n",
    "\n"
   ]
  },
  {
   "cell_type": "markdown",
   "metadata": {},
   "source": [
    "The method splev makes sense of the output of splrep and uses it to find the associated interpolating function. "
   ]
  },
  {
   "cell_type": "code",
   "execution_count": null,
   "metadata": {},
   "outputs": [],
   "source": [
    "plt.plot(X, Y, 'o', x_line,  itp.splev(x_line, spl), 'tab:green')\n",
    "plt.show()\n",
    "\n",
    "\n"
   ]
  },
  {
   "cell_type": "markdown",
   "metadata": {},
   "source": [
    "\n",
    "In this case, using interp1d and using splrep + splev give what looks like the same result, but they use different methods behind the scenes, and may not always produce exactly the same output. You can find some discussion of this [here](http://scipy-user.10969.n7.nabble.com/splrep-splev-versus-interp1d-td5775.html).\n",
    "\n",
    "Looking carefully at the output above, we see that it is not the same as the interpolating function created in the slides for this data. We can see this from the fact that in the slides the first spline is a straight line, because we set $a_1 = 0$ as part of our method. So the techniques for calculating splines Scipy uses are not the same as the technique we used. If you dig far enough into the Scipy documentation you can find some references, but we won't do that here. \n",
    "\n",
    "To get a method exactly like the one from the slides we have to implement it ourselves."
   ]
  },
  {
   "cell_type": "code",
   "execution_count": null,
   "metadata": {},
   "outputs": [],
   "source": [
    "# This function returns the interpolating function created from splines of degree k. \n",
    "# This should work correctly for small values of k, e.g. = 1,2,3 etc. For large values linalg.solve doesn't work properly.\n",
    "# x_points needs to be arranged in order of size for this to work properly.\n",
    "def spline_int(x_points, y_points, k = 1):\n",
    "    n = len(x_points) -1\n",
    "    M = np.zeros(((k+1)*n - (k-1), (k+1)*n))\n",
    "    Y = np.zeros((k+1)*n - (k-1))\n",
    "    # Now we add rows to M corresponding to the condition that splines pass through points in the data.\n",
    "    for i in range(0,n):\n",
    "        for j in range(k+1):\n",
    "            M[2*i,(k+1)*i+j] = x_points[i]**(k-j)\n",
    "            M[2*i+1,(k+1)*i+j] = x_points[i+1]**(k-j)\n",
    "        Y[2*i] = y_points[i]\n",
    "        Y[2*i+1] = y_points[i+1]\n",
    "    # now we add rows corresponding to the conditions on equality of derivatives\n",
    "    # d will track which derivative we are taking\n",
    "    for d in range(1, k):\n",
    "        # i will track which knot we are using\n",
    "        for i in range(0,n-1):\n",
    "            # Note that there are k+1-d terms are in the dth derivative\n",
    "            # We add entries to M for each j in this range \n",
    "            for j in range(k+1-d):\n",
    "                M[2*n + (d-1)*(n-1) + i, (k+1)*i+j] = (np.math.factorial(k-j)/np.math.factorial(k-j-d))*x_points[i+1]**(k-d-j)\n",
    "                M[2*n + (d-1)*(n-1) + i, (k+1)*i+j+k+1] = -(np.math.factorial(k-j)/np.math.factorial(k-j-d))*x_points[i+1]**(k-d-j)\n",
    "    # For k > 1 we need to trim some columns off M to represent setting some parameters to 0 to make the system solvable.\n",
    "    M = np.delete(M, np.s_[0:k-1], 1)\n",
    "    # We create an array of the parameters we set to zero.\n",
    "    params = np.zeros(k-1)\n",
    "    params = np.concatenate((params,np.linalg.solve(M,Y)))\n",
    "    # Now we have the parameters we will define the function that spline_int will return.\n",
    "    # This function f, which given a suitable value of x will return the value of the interpolating \n",
    "    # function at x (using the splines defined using params as created above)\n",
    "    def f(values):\n",
    "        # To make drawing graphs easier we want f to take as inputs either numbers or arrays of numbers, so we have to \n",
    "        # code for two cases. This isn't very neat, but it seems to be how numpy does it internally for things like numpy.sin.\n",
    "        # As an aside, numpy isn't coded in python, as native python is quite slow. \n",
    "        # Numpy, like many other Python libraries, is actually written in C, making it very fast.\n",
    "        values = np.asarray(values)\n",
    "        x_min = min(x_points)\n",
    "        x_max = max(x_points)\n",
    "        if values.ndim == 0:\n",
    "            if values < x_min  or values > x_max :\n",
    "                return 'out of range'\n",
    "            else:\n",
    "                # We have to find the interval in which 'values' lies in order to use the correct spline function.\n",
    "                spline_num = 0\n",
    "                for i in range(n):\n",
    "                    if values > x_points[i]:\n",
    "                        spline_num = i\n",
    "                    else:\n",
    "                        break\n",
    "                result = 0\n",
    "                for j in range(k+1):\n",
    "                    result += params[(k+1)*spline_num + j]*(values**(k-j))\n",
    "                return  result\n",
    "        else:\n",
    "            y = []\n",
    "            for x in values:\n",
    "                result = 0\n",
    "                if x < x_min or x > x_max:\n",
    "                    return 'out of range'\n",
    "                else:\n",
    "                    # We have to find the interval in which x lies in order to use the correct spline function.\n",
    "                    spline_num = 0\n",
    "                    for i in range(n):\n",
    "                        if x > x_points[i]:\n",
    "                            spline_num = i\n",
    "                        else:\n",
    "                            break                \n",
    "                for j in range(k+1):\n",
    "                    result += params[(k+1)*spline_num + j]*(x**(k-j))\n",
    "                y.append(result)\n",
    "            return y    \n",
    "    return f\n",
    "\n",
    "\n",
    "    "
   ]
  },
  {
   "cell_type": "markdown",
   "metadata": {},
   "source": [
    "You can change the value of $k$ in the definition of y_line to draw splines with polynomials of different degrees. You can check the output for $k=1$ agrees with the output from the first cell."
   ]
  },
  {
   "cell_type": "code",
   "execution_count": null,
   "metadata": {},
   "outputs": [],
   "source": [
    "k = 1\n",
    "x_point = 5\n",
    "\n",
    "y_line = spline_int(X,Y,k=k)(x_line)\n",
    "y_point = spline_int(X,Y,k=k)(x_point)\n",
    "plt.plot(X, Y, 'o', x_line, y_line, 'tab:green')\n",
    "print('Model predicts y = {} when x = {}'.format(y_point, x_point))\n",
    "plt.show()\n",
    "\n",
    "# You can experiment by using different (x,y) data and different values of k."
   ]
  },
  {
   "cell_type": "markdown",
   "metadata": {},
   "source": [
    "Given the values X_new and Y_new, write a function that will find the parameters of the linear splines $(a_1,b_1,...,a_n,b_n)$. You can use the code from the previous cell as a guide (you will need to make some changes), or you can use another method if you prefer."
   ]
  },
  {
   "cell_type": "code",
   "execution_count": null,
   "metadata": {},
   "outputs": [],
   "source": [
    "def find_params(x_points, y_points):\n",
    "    #TODO\n",
    "    return"
   ]
  },
  {
   "cell_type": "markdown",
   "metadata": {},
   "source": [
    "You can test your method on some new data. For reference, I think the correct output should be [ -4.  10.  10. -18.  -2.  18.   0.  10.  -7.  45.] This tells us $a_0 = -4$, $b_0 = 10$, $a_1 = 10$, $b_1 = -18$ etc."
   ]
  },
  {
   "cell_type": "code",
   "execution_count": null,
   "metadata": {},
   "outputs": [],
   "source": [
    "X2 = [1,2,3,4,5,6]\n",
    "Y2 = [6,2,12,10,10,3]\n",
    "\n",
    "print(find_params(X2,Y2))"
   ]
  }
 ],
 "metadata": {
  "kernelspec": {
   "display_name": "Python 3 (ipykernel)",
   "language": "python",
   "name": "python3"
  },
  "language_info": {
   "codemirror_mode": {
    "name": "ipython",
    "version": 3
   },
   "file_extension": ".py",
   "mimetype": "text/x-python",
   "name": "python",
   "nbconvert_exporter": "python",
   "pygments_lexer": "ipython3",
   "version": "3.8.11"
  }
 },
 "nbformat": 4,
 "nbformat_minor": 4
}
