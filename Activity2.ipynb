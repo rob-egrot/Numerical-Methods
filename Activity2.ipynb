{
 "cells": [
  {
   "cell_type": "code",
   "execution_count": null,
   "metadata": {},
   "outputs": [],
   "source": [
    "# Here we import our data and view it\n",
    "%matplotlib notebook\n",
    "import pandas as pd\n",
    "df = pd.read_csv('carpet_age.csv')\n",
    "display(df)"
   ]
  },
  {
   "cell_type": "code",
   "execution_count": null,
   "metadata": {},
   "outputs": [],
   "source": [
    "# Now we'll extract the data.\n",
    "\n",
    "import numpy as np\n",
    "\n",
    "# We have to extract the data from the columns we're interested in.\n",
    "# X will collect the independent variables, and y the dependent (response) variable.\n",
    "\n",
    "X_data = np.array(df[['cys_acid', 'cys', 'met', 'tyr']].values)\n",
    "y_data = np.array(df[['age']].values.flatten())\n",
    "\n",
    "# Notice that the bottom two entries don't have ages. To keep things simple we'll remove them.\n",
    "# Numpy's delete operation doesn't actually modify the arrays it operates it, it just returns a new array.\n",
    "# So we create two new arrays to do our regression with.\n",
    "y = np.delete(y_data,[len(y_data)-1, len(y_data)-2],0)\n",
    "X = np.delete(X_data,[len(X_data)-1, len(X_data)-2],0)\n",
    "\n",
    "print(X)\n",
    "print(y)\n",
    "\n"
   ]
  },
  {
   "cell_type": "code",
   "execution_count": null,
   "metadata": {},
   "outputs": [],
   "source": [
    "# Now we can calculate the parameters of the regression hyperplane a_0 + a_1x_1 + a_2x_2 + a_3x_3 + a_4x_4\n",
    "\n",
    "from sklearn.linear_model import LinearRegression\n",
    "\n",
    "model = LinearRegression()\n",
    "\n",
    "# We run the 'fit' function on X and y to get our regression model.\n",
    "model.fit(X,y)\n",
    "\n",
    "# intercept_ returns a_0, and coef_ returns [a_1,a_2,a_3,a_4], so we get out array of parameters by combining these\n",
    "A = np.append(model.intercept_, model.coef_) \n",
    "\n",
    "print('parameters:', A)\n",
    "\n"
   ]
  },
  {
   "cell_type": "code",
   "execution_count": null,
   "metadata": {},
   "outputs": [],
   "source": [
    "# We can easily find the coefficient of determination r^2 here too.\n",
    "\n",
    "r2 = round(model.score(X, y),3)\n",
    "print('coefficient of determination:', r2)"
   ]
  },
  {
   "cell_type": "code",
   "execution_count": null,
   "metadata": {},
   "outputs": [],
   "source": [
    "import math\n",
    "\n",
    "# Write a function that takes as input the array of data for the independent variables (X), and the array of data for the \n",
    "# dependent vaiable (y), and also the array of parameters calculated for the multiple regression model (for us this is\n",
    "# A = [a_0,a_1,a_2,a_3,a_4]), and outputs the correct value for the standard error of the estimate s_yx (I think it should \n",
    "# be 46.379).\n",
    "\n",
    "\n",
    "def findSE(x_values, y_values, A):\n",
    "    #TODO\n",
    "    return \n",
    "\n",
    "s_yx = findSE(X,y,A)\n",
    "print('standard error of estimate:', s_yx)"
   ]
  },
  {
   "cell_type": "code",
   "execution_count": null,
   "metadata": {},
   "outputs": [],
   "source": [
    "# The regression we've just done involves 4 independent variables, so the regression hypersurface is a 4 dimensional shape in\n",
    "# 5 dimensional space. This is hard to draw. To get a picture we'll restrict to just the first two independent vatriiables.\n",
    "\n",
    "X_data_new = np.array(df[['cys_acid', 'cys']].values)\n",
    "X_2 = np.delete(X_data_new,[len(X_data_new)-1, len(X_data_new)-2],0)\n",
    "\n",
    "print(X_2)"
   ]
  },
  {
   "cell_type": "code",
   "execution_count": null,
   "metadata": {},
   "outputs": [],
   "source": [
    "# Now we can proceed like before.\n",
    "\n",
    "model = LinearRegression()\n",
    "model.fit(X_2,y)\n",
    "\n",
    "# Here A_2 will be [a_0,a_1,a_2]\n",
    "A_2 = np.append(model.intercept_, model.coef_) \n",
    "\n",
    "print('parameters:', A_2)\n",
    "\n",
    "r2_new = round(model.score(X_2, y),3)\n",
    "print('coefficient of determination:', r2_new)"
   ]
  },
  {
   "cell_type": "code",
   "execution_count": null,
   "metadata": {},
   "outputs": [],
   "source": [
    "# We can also draw a picture. You should be able to drag the image to change the view. \n",
    "\n",
    "import matplotlib.pyplot as plt\n",
    "from matplotlib import cm\n",
    "from mpl_toolkits.mplot3d import Axes3D\n",
    "from matplotlib.ticker import LinearLocator\n",
    "\n",
    "x1_values = np.delete(X_2,1,1)\n",
    "x2_values = np.delete(X_2,0,1)\n",
    "z_values = y\n",
    "x_line = np.linspace(min(x1_values), max(x1_values) + 1, 100)\n",
    "y_line = np.linspace(min(x2_values), max(x2_values) + 1, 100)\n",
    "X, Y = np.meshgrid(x_line, y_line)\n",
    "Z = A_2[0] + X*A_2[1] + Y*A_2[2]\n",
    "colours =[]\n",
    "for i in range(len(x1_values)):\n",
    "    if z_values[i] > A_2[0] + x1_values[i]*A_2[1] + x2_values[i]*A_2[2]:\n",
    "        colours.append('red')\n",
    "    else:\n",
    "        colours.append('blue')\n",
    "fig = plt.figure()\n",
    "ax = fig.add_subplot(111, projection='3d')\n",
    "ax.w_zaxis.set_major_locator(LinearLocator(6))\n",
    "ax.scatter(x1_values, x2_values, z_values, marker = 'o', c = colours)\n",
    "ax.plot_surface(X, Y, Z, cmap=cm.viridis, linewidth=0, alpha = 0.5)\n",
    "ax.view_init(elev=10., azim=25)\n",
    "plt.show()\n",
    "\n",
    "\n"
   ]
  },
  {
   "cell_type": "code",
   "execution_count": null,
   "metadata": {},
   "outputs": [],
   "source": [
    "# Now let's write our own function for performing multiple regression with 2 independent x variables.\n",
    "# This function will take an 'array of arrays' representing the values of 2 independent x variables, and an array of values of y,\n",
    "# and it will output the parameters a_0,a_1,a_2 of the regression plane.\n",
    "# We will need to use numpy's linear algebra capabilities to solve the matrix equation that gives us the solution.\n",
    "\n",
    "\n",
    "def mRegression(x_values, y_values):\n",
    "    # We need to populate the matrix from the notes with sums of x values.\n",
    "    n = len(y_values)\n",
    "    Sx_1 = 0\n",
    "    Sx_2 = 0\n",
    "    Sx_1x_2 = 0\n",
    "    Sx_1_square = 0\n",
    "    Sx_2_square = 0\n",
    "    Sy = 0\n",
    "    Sx_1y = 0\n",
    "    Sx_2y = 0\n",
    "    for k in range(len(y_values)):\n",
    "        Sx_1 += x_values[k][0]\n",
    "        Sx_2 += x_values[k][1]\n",
    "        Sx_1x_2 += x_values[k][0]*x_values[k][1]\n",
    "        Sx_1_square += x_values[k][0]**2\n",
    "        Sx_2_square += x_values[k][1]**2\n",
    "        Sy += y_values[k]\n",
    "        Sx_1y += y_values[k]*x_values[k][0]\n",
    "        Sx_2y += y_values[k]*x_values[k][1]\n",
    "    M = np.array([[n, Sx_1, Sx_2], [Sx_1, Sx_1_square, Sx_1x_2], [Sx_2, Sx_1x_2, Sx_2_square]])\n",
    "    col = [Sy, Sx_1y, Sx_2y]    \n",
    "    return np.linalg.solve(M, col)\n",
    "\n",
    "# We can check this gives the same answer as we got using model.fit earlier.\n",
    "print(mRegression(X_2,y))"
   ]
  },
  {
   "cell_type": "code",
   "execution_count": null,
   "metadata": {},
   "outputs": [],
   "source": [
    "# Now we'll do something a bit different. \n",
    "# Run this cell to generate an image describing a problem for us to solve. \n",
    "from IPython.display import Image\n",
    "Image('exercise.png')"
   ]
  },
  {
   "cell_type": "code",
   "execution_count": null,
   "metadata": {},
   "outputs": [],
   "source": [
    "# To solve this we will use the general least squares regression method. \n",
    "# Here y = az_0 + bz_1 + cz_2.\n",
    "# z_0, z_1, and z_2 are 'basis functions' of t.\n",
    "# In this case z_0 = e^(-1.5t), z_1 = e^(-0.3t) and z_2 = e^(-0.05t)\n",
    "# Using these basis functions and the values of t given in the data we create a matrix Z.\n",
    "# We also get a vector Y from the values of p(t).\n",
    "# We find the values of a,b,c by evaluating the matrix term (Z^TZ)^(-1)Z^TY\n",
    "\n",
    "from math import exp\n",
    "\n",
    "t_values = [0.5, 1, 2, 3, 4, 5, 6, 7, 9]\n",
    "Y = np.array([[6], [4.4], [3.2], [2.7], [2], [1.9], [1.7], [1.4], [1.1]])\n",
    "\n",
    "# Returns the matrix Z as an array\n",
    "def make_Z(t = t_values):\n",
    "    # TODO\n",
    "    return np.array(A)\n",
    "\n",
    "\n",
    "# Now using the matrix Z we can evaluate a matrix formula to find the parameters a,b,c.\n",
    "Z = make_Z()\n",
    "Zt = np.transpose(Z)\n",
    "A = np.matmul(np.matmul(np.linalg.inv(np.matmul(Zt,Z)),Zt),Y)\n",
    "print(A)\n",
    "\n",
    "\n",
    "# If my calculation is correct, this should produce \n",
    "# [[4.13749658]\n",
    "#  [2.89588175]\n",
    "#  [1.53491995]]\n",
    "# This corresponds to a = 4.137, b = 2.896, c = 1.535 (to 3 decimal places). \n",
    "# This gives us an estimate for the parameters of the model.\n",
    "\n"
   ]
  },
  {
   "cell_type": "code",
   "execution_count": null,
   "metadata": {
    "scrolled": true
   },
   "outputs": [],
   "source": [
    "# You can test how good this model is by comparing the values predicted if you use these values\n",
    "# for a,b,c with the model for p(t) at the t values given in the data with the observed values of p(t).\n",
    "# E.g. you can calcuate S_t and S_r, and so also r^2 and s_yx.\n",
    "# We will just draw a picture.\n",
    "\n",
    "fig, ax = plt.subplots() \n",
    "ax.scatter(t_values, Y.flatten(), c = 'orange')\n",
    "a,b,c = A.flatten()\n",
    "x_line = np.linspace(0,10,100)\n",
    "y_line = a*np.exp(-1.5*x_line) + b*np.exp(-0.3*x_line) + c*np.exp(-0.05*x_line) \n",
    "# we needed the numpy exp function in the line above to draw the line properly\n",
    "plt.plot(x_line, y_line)\n",
    "plt.show()\n",
    "\n",
    "\n"
   ]
  },
  {
   "cell_type": "code",
   "execution_count": null,
   "metadata": {},
   "outputs": [],
   "source": []
  }
 ],
 "metadata": {
  "kernelspec": {
   "display_name": "Python 3",
   "language": "python",
   "name": "python3"
  },
  "language_info": {
   "codemirror_mode": {
    "name": "ipython",
    "version": 3
   },
   "file_extension": ".py",
   "mimetype": "text/x-python",
   "name": "python",
   "nbconvert_exporter": "python",
   "pygments_lexer": "ipython3",
   "version": "3.6.10"
  }
 },
 "nbformat": 4,
 "nbformat_minor": 4
}
