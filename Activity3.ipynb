{
 "cells": [
  {
   "cell_type": "markdown",
   "metadata": {},
   "source": [
    "## Numerical Methods\n",
    "### Activity 3: Interpolation"
   ]
  },
  {
   "cell_type": "markdown",
   "metadata": {},
   "source": [
    "Numpy can also fit interpolating polynomials."
   ]
  },
  {
   "cell_type": "code",
   "execution_count": null,
   "metadata": {},
   "outputs": [],
   "source": [
    "%matplotlib notebook\n",
    "\n",
    "# Here is some example data.\n",
    "\n",
    "X = [1, 3, 4, 7, 10, 12]\n",
    "Y =[34, 78, 11, 12, 43, 61]\n",
    "\n",
    "\n",
    "\n",
    "# This is 6 points in the plane, so the interpolating polynomial will have degree 5 (i.e. it will be 'quintic').\n",
    "\n",
    "print(X)\n",
    "print(Y)\n"
   ]
  },
  {
   "cell_type": "markdown",
   "metadata": {},
   "source": [
    "We can find the coefficients of the interpolating quintic using numpy. This returns the coefficients $a_5,...,a_0$ of the interpolating quintic (note the order!).\n",
    "\n",
    "Behind the scenes the polyfit method is just performing regression with a degree 5 polynomial here. This works because with 6 data points the best fit polynomial of degree 5 will pass through every point. We can also use the polyfit method for finding the best fit line by changing 5 to 1 in the polyfit call."
   ]
  },
  {
   "cell_type": "code",
   "execution_count": null,
   "metadata": {},
   "outputs": [],
   "source": [
    "import numpy as np\n",
    "import numpy.polynomial as poly\n",
    "\n",
    "\n",
    "coefs = np.polyfit(X, Y, 5)\n",
    "\n",
    "print(coefs)"
   ]
  },
  {
   "cell_type": "markdown",
   "metadata": {},
   "source": [
    "We can plot this interpolating polynomial."
   ]
  },
  {
   "cell_type": "code",
   "execution_count": null,
   "metadata": {},
   "outputs": [],
   "source": [
    "import matplotlib.pyplot as plt\n",
    "\n",
    "x_line = np.linspace(0,13,100)\n",
    "\n",
    "# polyval is used to define y_line as the graph of the polynomial whose coeficients are 'coefs'.\n",
    "# polyval assumes 'coefs' is [a_n, a_(n-1),...,a_0] (note the order).\n",
    "y_line = np.polyval(coefs, x_line)\n",
    "\n",
    "fig, ax = plt.subplots()\n",
    "plt.plot(x_line, y_line, c='cornflowerblue')\n",
    "plt.scatter(X,Y, c= 'orange')\n",
    "plt.show()"
   ]
  },
  {
   "cell_type": "markdown",
   "metadata": {},
   "source": [
    "Let's try this method with some new data and a polynomial of higher degree."
   ]
  },
  {
   "cell_type": "code",
   "execution_count": null,
   "metadata": {},
   "outputs": [],
   "source": [
    "X_new = np.array(range(20))\n",
    "Y_new = np.append(range(10),range(10))\n",
    "print(X_new)\n",
    "print(Y_new)"
   ]
  },
  {
   "cell_type": "markdown",
   "metadata": {},
   "source": [
    "We have 20 data points here, so the interpolating polynomial has degree 19. We can try to find the coefficients using polyfit, like we did before."
   ]
  },
  {
   "cell_type": "code",
   "execution_count": null,
   "metadata": {},
   "outputs": [],
   "source": [
    "coefs_new = np.polyfit(X_new, Y_new, 19)\n",
    "print(coefs_new)"
   ]
  },
  {
   "cell_type": "markdown",
   "metadata": {},
   "source": [
    "We get an answer, but also a warning about being 'poorly conditioned'. This is due to the way polyfit works internally. It solves this as a regression problem using linear algebra (not using divided differences or Lagrange polynomials). For high degree polynomials the matrices involved in the polyfit solution become large, and this may create problems for the computer arithmetic system while finding the solution.\n",
    "\n",
    "The effect that this has is that if we draw the interpolating polynomial based on the parameters we calculated in the \n",
    "previous cell, we see it does not actually go through all the data points (see below). Since, mathematically, the interpolating polynomial always goes through all the data points, the problem here is how the coefficients were calculated. I.e. with the polyfit method."
   ]
  },
  {
   "cell_type": "code",
   "execution_count": null,
   "metadata": {},
   "outputs": [],
   "source": [
    "x_line2 = np.linspace(0,19,100000)\n",
    "y_line2 = np.polyval(coefs_new, x_line2)\n",
    "\n",
    "fig2, ax2 = plt.subplots()\n",
    "ax2.plot(x_line2, y_line2, c='cornflowerblue')\n",
    "ax2.scatter(X_new,Y_new, c= 'orange')\n",
    "ax2.set_ylim(-20, 30)\n",
    "plt.show()\n"
   ]
  },
  {
   "cell_type": "markdown",
   "metadata": {},
   "source": [
    "We can also find the coefficients of the interpolating polynomial by writing our own Vandermonde matrix method."
   ]
  },
  {
   "cell_type": "code",
   "execution_count": null,
   "metadata": {},
   "outputs": [],
   "source": [
    "def vMatrix(x_values):\n",
    "    n = len(x_values)\n",
    "    V = []\n",
    "    for x in x_values:\n",
    "        row = []\n",
    "        for i in range(n):\n",
    "            row.append(x**i)\n",
    "        V.append(row)\n",
    "    return V\n",
    "\n",
    "van = np.array(vMatrix(X_new))\n",
    "params = np.array(list(reversed(np.linalg.solve(van,Y_new))))\n",
    "print(params)\n",
    "\n",
    "# Note that linalg.solve returns parameters ordered p_0,...,p_n, but for the polyval method we need them ordered p_n,...,p_0.\n",
    "# This is why we use 'reverse' here.\n",
    "\n"
   ]
  },
  {
   "cell_type": "markdown",
   "metadata": {},
   "source": [
    "Now we can plot the interpolating polynomial with the coefficients we calculated using the Vandermonde matrix method."
   ]
  },
  {
   "cell_type": "code",
   "execution_count": null,
   "metadata": {},
   "outputs": [],
   "source": [
    "fig3, ax3 = plt.subplots()\n",
    "y_line3 = np.polyval(params, x_line2)\n",
    "ax3.plot(x_line2, y_line3, c='cornflowerblue')\n",
    "ax3.scatter(X_new,Y_new, c= 'orange')\n",
    "ax3.set_ylim(-30, 40)\n",
    "plt.show()"
   ]
  },
  {
   "cell_type": "markdown",
   "metadata": {},
   "source": [
    "As you can see, this is totally wrong, much worse than using polyfit, which was also bad.\n",
    "\n",
    "We should check that the code above is working properly. To do this, we apply our Vandermonde method to the data from the very first example in the notebook. We can check that the coefficients produced are the same as those we got using the polyfit method.\n"
   ]
  },
  {
   "cell_type": "code",
   "execution_count": null,
   "metadata": {},
   "outputs": [],
   "source": [
    "van2 = np.array(vMatrix(X))\n",
    "params2 = np.array(list(reversed(np.linalg.solve(van2,Y))))\n",
    "print(params2)\n",
    "\n",
    "fig4, ax4 = plt.subplots()\n",
    "y_line4 = np.polyval(params2, x_line)\n",
    "ax4.plot(x_line, y_line, c='cornflowerblue')\n",
    "ax4.scatter(X,Y, c= 'orange')\n",
    "plt.show()"
   ]
  },
  {
   "cell_type": "markdown",
   "metadata": {},
   "source": [
    "This looks correct. So the Vandermonde matrix method works when the degree of the interpolating polynomial is relatively small, but it has problems as the degree increases. This is what we would expect, given what we know about problems with the precision of calculated parameter values using the Vandermonde matrix method. Also, like polyfit, linalg.solve has some specific problems with large matrices due to the way it works internally. This is probably what is causing most of the problems here."
   ]
  },
  {
   "cell_type": "markdown",
   "metadata": {},
   "source": [
    "To get around these problems with polyfit and linalg.solve, we can write a method that calculates the divided differences. This method takes the $x$ values and the $y$ values and outputs the divided difference coefficients $b_0,b_1,...,b_n$."
   ]
  },
  {
   "cell_type": "code",
   "execution_count": null,
   "metadata": {},
   "outputs": [],
   "source": [
    "def ddiff(x_values, y_values):\n",
    "    ddif_table = [[]]\n",
    "    for y in y_values:\n",
    "        ddif_table[0].append(y)\n",
    "    for i in range(1, len(x_values)):\n",
    "        column = []\n",
    "        for j in range(0, len(x_values) - i):\n",
    "            column.append(\n",
    "                (ddif_table[i-1][j] - ddif_table[i-1][j+1]) /\n",
    "                (x_values[j] - x_values[j+i]))\n",
    "        ddif_table.append(column)\n",
    "    return [dd[0] for dd in ddif_table]\n",
    "\n",
    "b_values = ddiff(X_new,Y_new)\n",
    "print(b_values)\n"
   ]
  },
  {
   "cell_type": "markdown",
   "metadata": {},
   "source": [
    "Now we can use these $b$ values to find and draw the interpolating polynomial for X_new and Y_new properly. This method calculates the value at 'x_var' of a polynomial in Newton's form. Here 'x_values' are the x values from the data, and 'params' are the b values."
   ]
  },
  {
   "cell_type": "code",
   "execution_count": null,
   "metadata": {},
   "outputs": [],
   "source": [
    "def Npoly(x_var, x_values, params): \n",
    "    result = params[0]\n",
    "    for i in range(1, len(params)):\n",
    "        block = 1\n",
    "        for j in range(0, i):\n",
    "            block *= x_var - float(x_values[j])\n",
    "        result += params[i]*block\n",
    "    return result\n",
    "\n",
    "fig5, ax5 = plt.subplots()\n",
    "y_line5 = Npoly(x_line2, X_new, b_values)\n",
    "plt.plot(x_line2, y_line5)\n",
    "plt.plot(X_new, Y_new, marker = 'o', linestyle = 'none')\n",
    "ax5.set_ylim(-20, 30)\n",
    "plt.show()    "
   ]
  },
  {
   "cell_type": "markdown",
   "metadata": {},
   "source": [
    "We see that this passes through all the points properly. This is the correct interpolating polynomial for this data. Comparing this to the line drawn using polyfit earlier, we see how wrong that first attempt was. Observe also that Runge's phenomenon is occurring here."
   ]
  },
  {
   "cell_type": "markdown",
   "metadata": {},
   "source": [
    "We can now calculate the interpolating polynomial for X_new and Y_new using Largange polynomials. This method finds value of the interpolating polynomial at x_var by using Lagranges form."
   ]
  },
  {
   "cell_type": "code",
   "execution_count": null,
   "metadata": {},
   "outputs": [],
   "source": [
    "def Lpoly(x_var, x_values, y_values): \n",
    "    result = 0\n",
    "    for i in range(0, len(x_values)):\n",
    "        block = 1\n",
    "        for j in range(0, len(x_values)):\n",
    "            if i != j:\n",
    "                block *= (x_var - x_values[j]) / (x_values[i] - x_values[j])\n",
    "        result += y_values[i]*block\n",
    "    return result\n",
    "\n",
    "fig6, ax6 = plt.subplots()\n",
    "y_line6 = Lpoly(x_line2, X_new, Y_new)\n",
    "plt.plot(x_line2, y_line6)\n",
    "plt.plot(X_new, Y_new, marker = 'o', linestyle = 'none')\n",
    "ax6.set_ylim(-20, 30)\n",
    "plt.show()"
   ]
  },
  {
   "cell_type": "markdown",
   "metadata": {},
   "source": [
    "We see that this agrees with the result of using Newton's divided difference method. This is always going to be true, because they are both ways of finding the interpolating polynomial, which is unique."
   ]
  },
  {
   "cell_type": "markdown",
   "metadata": {},
   "source": [
    "Now you should experiment with the various methods we have used here to draw the interpolating polynomial for the following data. As we only have 7 points the interpolating polynomial will have degree 6, and so every method will work. \n",
    "\n",
    "What you have to do is fill in the necessary details to correctly find y_line7. If you do this correctly the right line will be drawn. You should do this for every method we have used, to make sure you understand them. The result should be the same every time, as the interpolating polynomial is unique."
   ]
  },
  {
   "cell_type": "code",
   "execution_count": null,
   "metadata": {},
   "outputs": [],
   "source": [
    "Xt = [5,10,15,20,25,30,35]\n",
    "Yt = [145,500,323,98,87,273,81]\n",
    "\n",
    "\n",
    "x_line3 = np.linspace(5,35,1000)\n",
    "\n",
    "y_line7 = #TODO\n",
    "\n",
    "fig7, ax7 = plt.subplots()\n",
    "plt.plot(x_line3, y_line7)\n",
    "plt.plot(Xt, Yt, marker = 'o', linestyle = 'none')\n",
    "plt.show()"
   ]
  }
 ],
 "metadata": {
  "kernelspec": {
   "display_name": "Python 3 (ipykernel)",
   "language": "python",
   "name": "python3"
  },
  "language_info": {
   "codemirror_mode": {
    "name": "ipython",
    "version": 3
   },
   "file_extension": ".py",
   "mimetype": "text/x-python",
   "name": "python",
   "nbconvert_exporter": "python",
   "pygments_lexer": "ipython3",
   "version": "3.9.12"
  }
 },
 "nbformat": 4,
 "nbformat_minor": 4
}
