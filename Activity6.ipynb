{
 "cells": [
  {
   "cell_type": "markdown",
   "metadata": {},
   "source": [
    "## Numerical Methods\n",
    "### Activity 6: Numerical Differentiation"
   ]
  },
  {
   "cell_type": "markdown",
   "metadata": {},
   "source": [
    "We can use numpy's gradient function to do numerical differentiation. Here we go through the example from the slides with $h = 0.25$. Note that it doesn't matter what the $x$ values are, only the step size and the associated $y$ values."
   ]
  },
  {
   "cell_type": "code",
   "execution_count": null,
   "metadata": {},
   "outputs": [],
   "source": [
    "import numpy as np\n",
    "\n",
    "# h is the step size as normal\n",
    "h = 0.25\n",
    "\n",
    "# f is an array of y values (as mentioned above, the associated x values are not important, just the step size).\n",
    "# f can be any length, and does not even have to be 1-dimensional (multivariable functions can be handled too).\n",
    "# Here we use the y values from the example in class.\n",
    "f = [1.1035156, 0.925, 0.636328125]\n",
    "\n",
    "print(np.gradient(f,h))"
   ]
  },
  {
   "cell_type": "markdown",
   "metadata": {},
   "source": [
    "The output above is computed by finding the centered estimate of the first derivative at the internal points ($0.925$ here), and the forward or backward estimates for the endpoints. So here $-0.9344686$ is the centered estimate at $x_i$, $-0.7140624$ is the forward estimate at $x_{(i-1)}$ (same as backward estimate at $x_i$), $-1.1548748$ is the backward estimate at $x_{(i+1)}$ (same as forward estimate at $x_i$).\n",
    "\n",
    "Numpy doesn't seem to implement the high accuracy or higher derivative estimates. As an exercise, try implementing a function that returns the higher accuracy centered 1st estimate. Input should be an array $f$ of exactly $5$ values (representing $[y_{(i-2)}, y_{(i-1)}, y_i, y_{(i+1)}, y_{(i+2)}]$) and a step size $h$. Output should be a single number, the high accuracy centered 1st derivative estimate at $x_i$."
   ]
  },
  {
   "cell_type": "code",
   "execution_count": null,
   "metadata": {},
   "outputs": [],
   "source": [
    "def high_diff(f,h):\n",
    "    # TODO\n",
    "    return \n",
    "\n",
    "f2 = [1.2, 1.1035156, 0.925, 0.636328125, 0.2]\n",
    "print(high_diff(f2,h))\n",
    "# Remember the correct solution is -0.9125 to 4 decimal places."
   ]
  },
  {
   "cell_type": "markdown",
   "metadata": {},
   "source": [
    "As another exercise, implement a function that performs repeated Romberg integration.\n",
    "\n",
    "Input should be an array $I$ of numbers representing composite trapezoid rule estimates for some integral. Remember that the number of intervals used in the composite trapezoid rule estimates has to double with every additional estimate for the Romberg technique as descrbed in the class to work, so for the function to be defined below to produce correct output the input must contain values obtained composite trapezoid rule estimates where $n$ is doubled each time.\n",
    "\n",
    "\n",
    "Recursion is useful when writing this function, so the input $k$ keeps track of which stage the recursion is at (default is 1).\n",
    "If you don't want to use recursion, or think of a better way to use it, you can ignore the input $k$.\n",
    "Output should be a single number giving the best possible estimate using repeated Romberg integration."
   ]
  },
  {
   "cell_type": "code",
   "execution_count": null,
   "metadata": {},
   "outputs": [],
   "source": [
    "def rep_Rom(I, k = 1):\n",
    "    # TODO\n",
    "    return \n",
    "\n",
    "I = [0.1728, 1.0688, 1.4848, 1.6008]\n",
    "print(rep_Rom(I))\n",
    "\n",
    "# As we saw in the class, the output should be 1.640533 to 7 decimal places."
   ]
  }
 ],
 "metadata": {
  "kernelspec": {
   "display_name": "Python 3 (ipykernel)",
   "language": "python",
   "name": "python3"
  },
  "language_info": {
   "codemirror_mode": {
    "name": "ipython",
    "version": 3
   },
   "file_extension": ".py",
   "mimetype": "text/x-python",
   "name": "python",
   "nbconvert_exporter": "python",
   "pygments_lexer": "ipython3",
   "version": "3.8.11"
  }
 },
 "nbformat": 4,
 "nbformat_minor": 4
}
