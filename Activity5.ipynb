{
 "cells": [
  {
   "cell_type": "code",
   "execution_count": 1,
   "metadata": {},
   "outputs": [],
   "source": [
    "import numpy as np\n",
    "\n",
    "# Consider the function from the trapezoid rule example in the class.\n",
    "# As with the last coding activity, we do a technical hack so this function can take either single values or arrays as input.\n",
    "def f(values):\n",
    "    values = np.asarray(values)\n",
    "    if values.ndim == 0:\n",
    "        return 0.2 + 25*values - 200*values**2 + 675*values**3 - 900*values**4 + 400*values**5\n",
    "    else:\n",
    "        y = []\n",
    "        for x in values:\n",
    "            y.append(0.2 + 25*x - 200*x**2 + 675*x**3 - 900*x**4 + 400*x**5)\n",
    "        return y\n",
    "\n"
   ]
  },
  {
   "cell_type": "code",
   "execution_count": 2,
   "metadata": {},
   "outputs": [
    {
     "name": "stdout",
     "output_type": "stream",
     "text": [
      "0.1728000000000225\n"
     ]
    }
   ],
   "source": [
    "import scipy.integrate as integrate\n",
    "# The scipi integrate package has many functions for doing numerical integration.\n",
    "# We'll look at the ones related to methods we have covered in class.\n",
    "# We'll start with the trapezoid rule using the 'trapz' function.\n",
    "\n",
    "X = [0,0.8]\n",
    "Y = f(X)\n",
    "\n",
    "# We will find estimate for the integral of the function defined in the first cell.\n",
    "# This is the example from the class.\n",
    "# Here we tell trapz to integrate using the trapezoid rule with 2 points\n",
    "# Note the order of inputs (Y goes first).\n",
    "I = integrate.trapz(Y,X)\n",
    "print(I)\n",
    "\n",
    "# You can check that this is the same as in the class."
   ]
  },
  {
   "cell_type": "code",
   "execution_count": 3,
   "metadata": {},
   "outputs": [
    {
     "name": "stdout",
     "output_type": "stream",
     "text": [
      "1.0688000000000115\n"
     ]
    }
   ],
   "source": [
    "# We can also use trapz to apply the composite trapezoid rule by inputting more points.\n",
    "\n",
    "X2 = [0,0.4,0.8]\n",
    "Y2 = f(X2)\n",
    "\n",
    "\n",
    "I2 = integrate.trapz(Y2,X2)\n",
    "print(I2)\n",
    "\n",
    "# Again you can check this agrees with the answer from the class.\n",
    "# Try changing the number of intervals and checking they are correct."
   ]
  },
  {
   "cell_type": "code",
   "execution_count": 4,
   "metadata": {},
   "outputs": [
    {
     "name": "stdout",
     "output_type": "stream",
     "text": [
      "1.367466666666674\n"
     ]
    }
   ],
   "source": [
    "# scipy.integrate also has an implementation of Simpson's 1/3 rule.\n",
    "# Again we can call this by specifying the x values and y values.\n",
    "# Remember that a basic application of Simpson's 1/3 rule needs three points (two intervals).\n",
    "# integrate.simps can handle unequal interval lengths, but equal interval lengths is generally better if possible.\n",
    "\n",
    "I3 = integrate.simps(Y2,X2)\n",
    "print(I3)\n",
    "\n",
    "# You can check that this agrees with the answer from the class."
   ]
  },
  {
   "cell_type": "code",
   "execution_count": 5,
   "metadata": {},
   "outputs": [
    {
     "name": "stdout",
     "output_type": "stream",
     "text": [
      "[0.  0.2 0.4 0.6 0.8]\n",
      "[0.2, 1.2879999999999996, 2.4560000000000004, 3.4640000000000057, 0.23200000000005616]\n",
      "1.623466666666672\n"
     ]
    }
   ],
   "source": [
    "# We can also use simps for composite Simpson's 1/3 rule. \n",
    "# We just need to give it more points.\n",
    "# Composite Simpson's 1/3 rule needs an odd number of points points (an even number of intervals intervals).\n",
    "# If you give simps an even number of points it will still work, but it will not be the 'classic' rule as described in class.\n",
    "# Let's try with 5 points. Again, we'll go with even spacing.\n",
    "\n",
    "X3 = np.linspace(0,0.8,5)\n",
    "Y3 = f(X3)\n",
    "print(X3)\n",
    "print(Y3)\n",
    "\n",
    "I4 = integrate.simps(Y3,X3)\n",
    "print(I4)\n",
    "\n",
    "# This agrees with the result from the class."
   ]
  },
  {
   "cell_type": "code",
   "execution_count": 6,
   "metadata": {},
   "outputs": [
    {
     "name": "stdout",
     "output_type": "stream",
     "text": [
      "(1.6405333333333307, 1.8213578793317207e-14)\n"
     ]
    }
   ],
   "source": [
    "# scipy.integrate also has a general purpose numerical integration function called quad.\n",
    "# quad is more powerful than trapz and simps, but you need to give it a function, rather than points, so it is\n",
    "# not usable if all you have is points.\n",
    "\n",
    "I5 = integrate.quad(f,0,0.8)\n",
    "print(I5)\n",
    "\n",
    "# Output is a pair. On the left is the estimate of the integral, and on the right is an estimate of the absolute error.\n",
    "# As you can check, these estimates are very accurate."
   ]
  },
  {
   "cell_type": "code",
   "execution_count": 7,
   "metadata": {},
   "outputs": [
    {
     "name": "stdout",
     "output_type": "stream",
     "text": [
      "1.3674666666666744\n"
     ]
    }
   ],
   "source": [
    "# Let's write our own implementation of Simpson's 1/3 rule, this time taking a function as input.\n",
    "\n",
    "# Here f is the function to be integrated, a and b are the lower and upper bounds of integration, \n",
    "# and n is number of intervals (i.e. number of points minus 1)\n",
    "def simpson(f,a,b,n = 2):\n",
    "    # n must be even. If not we flag the error\n",
    "    if n % 2 != 0:\n",
    "        return 'needs even number of intervals'\n",
    "    elif not a < b:\n",
    "        return 'a should be less than b'\n",
    "    else:\n",
    "        d = (b-a)/n\n",
    "        I = f(a) + f(b)\n",
    "        for i in range(1,n):\n",
    "            if i % 2 == 0:\n",
    "                I += 2*f(a+i*d)\n",
    "            else:\n",
    "                I += 4*f(a+i*d)\n",
    "        return d*I/3\n",
    "    \n",
    "print(simpson(f,0,0.8,2))"
   ]
  },
  {
   "cell_type": "code",
   "execution_count": null,
   "metadata": {},
   "outputs": [],
   "source": [
    "# Now try writing your own implementation of the composite trapezoid rule that takes input (f,a,b,n) like in the previous cell.\n",
    "\n",
    "def trapezoid(f,a,b,n):\n",
    "    #TODO\n",
    "    return\n",
    "\n",
    "print(trapezoid(f,0,0.8,2))\n",
    "# You can check that this is correct by looking at the example from the slides, and you can also try other values of n."
   ]
  }
 ],
 "metadata": {
  "kernelspec": {
   "display_name": "Python 3",
   "language": "python",
   "name": "python3"
  },
  "language_info": {
   "codemirror_mode": {
    "name": "ipython",
    "version": 3
   },
   "file_extension": ".py",
   "mimetype": "text/x-python",
   "name": "python",
   "nbconvert_exporter": "python",
   "pygments_lexer": "ipython3",
   "version": "3.6.10"
  }
 },
 "nbformat": 4,
 "nbformat_minor": 4
}
