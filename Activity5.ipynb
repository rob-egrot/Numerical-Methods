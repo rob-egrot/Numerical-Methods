{
 "cells": [
  {
   "cell_type": "markdown",
   "metadata": {},
   "source": [
    "## Numerical Methods\n",
    "### Activity 5: Numerical Integration"
   ]
  },
  {
   "cell_type": "markdown",
   "metadata": {},
   "source": [
    "First we define a function corresponding to the trapezoid rule example from the class. This function takes in an array of numbers and applies the polynomial function $f(x) = 0.2 + 25x -200x^2+675x^3-900x^4+400x^5$ to all of them."
   ]
  },
  {
   "cell_type": "code",
   "execution_count": null,
   "metadata": {},
   "outputs": [],
   "source": [
    "import numpy as np\n",
    "\n",
    "def f(values):\n",
    "    values = np.asarray(values)\n",
    "    return 0.2 + 25*values - 200*values**2 + 675*values**3 - 900*values**4 + 400*values**5\n"
   ]
  },
  {
   "cell_type": "markdown",
   "metadata": {},
   "source": [
    "The scipy integrate package has many functions for doing numerical integration. We'll look at the ones related to methods we have covered in class. We'll start with the trapezoid rule using the 'trapz' function.\n",
    "\n",
    "We will find estimate for the integral of the function defined in the previous cell. This is the example from the class. Here we tell trapz to integrate using the trapezoid rule with 2 points. "
   ]
  },
  {
   "cell_type": "code",
   "execution_count": null,
   "metadata": {},
   "outputs": [],
   "source": [
    "import scipy.integrate as integrate\n",
    "\n",
    "X = [0,0.8]\n",
    "Y = f(X)\n",
    "\n",
    "# Note the order of inputs (Y goes first).\n",
    "I = integrate.trapz(Y,X)\n",
    "print(I)\n",
    "\n",
    "# You can check that this is the same as in the class."
   ]
  },
  {
   "cell_type": "markdown",
   "metadata": {},
   "source": [
    "We can also use trapz to apply the composite trapezoid rule by inputting more points. Again you can check this agrees with the answer from the class. Try changing the number of intervals and checking they are correct."
   ]
  },
  {
   "cell_type": "code",
   "execution_count": null,
   "metadata": {},
   "outputs": [],
   "source": [
    "X2 = [0,0.4,0.8]\n",
    "Y2 = f(X2)\n",
    "\n",
    "\n",
    "I2 = integrate.trapz(Y2,X2)\n",
    "print(I2)"
   ]
  },
  {
   "cell_type": "markdown",
   "metadata": {},
   "source": [
    "scipy.integrate also has an implementation of Simpson's 1/3 rule. Again we can call this by specifying the x values and y values. Remember that a basic application of Simpson's 1/3 rule needs three points (two intervals). The method integrate.simps can handle unequal interval lengths, but equal interval lengths is generally better if possible."
   ]
  },
  {
   "cell_type": "code",
   "execution_count": null,
   "metadata": {},
   "outputs": [],
   "source": [
    "I3 = integrate.simps(Y2,X2)\n",
    "print(I3)"
   ]
  },
  {
   "cell_type": "markdown",
   "metadata": {},
   "source": [
    "You can check that the answer above agrees with the answer from the class.\n",
    "\n",
    "We can also use simps for composite Simpson's 1/3 rule. We just need to give it more points. Composite Simpson's 1/3 rule needs an odd number of points points (an even number of intervals intervals). If you give integrate.simps an even number of points it will still work, but it will not be the 'classic' rule as described in class. Let's try with 5 points. Again, we'll use even spacing."
   ]
  },
  {
   "cell_type": "code",
   "execution_count": null,
   "metadata": {},
   "outputs": [],
   "source": [
    "X3 = np.linspace(0,0.8,5)\n",
    "Y3 = f(X3)\n",
    "print(X3)\n",
    "print(Y3)\n",
    "\n",
    "I4 = integrate.simps(Y3,X3)\n",
    "print(I4)"
   ]
  },
  {
   "cell_type": "markdown",
   "metadata": {},
   "source": [
    "The result above should also agree with the one from the class.\n",
    "\n",
    "The scipy.integrate library also has a general purpose numerical integration method called quad. quad is more powerful than trapz and simps, but you need to give it a function, rather than points, so it is not usable if all you have is points. Fortunately, we defined a function 'f' earlier.\n",
    "\n",
    "Here we call quad with three arguments, the function f, and the start and end points 0 and 0.8 of the range of integration.  Output is a pair. On the left is the estimate of the integral, and on the right is an estimate of the absolute error.\n",
    " As you can check, these estimates are very accurate."
   ]
  },
  {
   "cell_type": "code",
   "execution_count": null,
   "metadata": {},
   "outputs": [],
   "source": [
    "I5 = integrate.quad(f,0,0.8)\n",
    "print(I5)"
   ]
  },
  {
   "cell_type": "markdown",
   "metadata": {},
   "source": [
    "Let's write our own implementation of Simpson's 1/3 rule, this time taking a function as input. Here f is the function to be integrated, a and b are the lower and upper bounds of integration, and n is number of intervals (i.e. number of points minus 1)"
   ]
  },
  {
   "cell_type": "code",
   "execution_count": null,
   "metadata": {},
   "outputs": [],
   "source": [
    "def simpson(f,a,b,n = 2):\n",
    "    # n must be even. If not we flag the error\n",
    "    if n % 2 != 0:\n",
    "        return 'needs even number of intervals'\n",
    "    elif not a < b:\n",
    "        return 'a should be less than b'\n",
    "    else:\n",
    "        d = (b-a)/n\n",
    "        I = f(a) + f(b)\n",
    "        for i in range(1,n):\n",
    "            if i % 2 == 0:\n",
    "                I += 2*f(a+i*d)\n",
    "            else:\n",
    "                I += 4*f(a+i*d)\n",
    "        return d*I/3\n",
    "    \n",
    "print(simpson(f,0,0.8,2))"
   ]
  },
  {
   "cell_type": "markdown",
   "metadata": {},
   "source": [
    "Now try writing your own implementation of the composite trapezoid rule that takes input (f,a,b,n) like in the previous cell. You can check that this is correct by looking at the example from the slides, and you can also try other values of n."
   ]
  },
  {
   "cell_type": "code",
   "execution_count": null,
   "metadata": {},
   "outputs": [],
   "source": [
    "def trapezoid(f,a,b,n):\n",
    "    #TODO\n",
    "    return\n",
    "\n",
    "print(trapezoid(f,0,0.8,2))\n"
   ]
  }
 ],
 "metadata": {
  "kernelspec": {
   "display_name": "Python 3 (ipykernel)",
   "language": "python",
   "name": "python3"
  },
  "language_info": {
   "codemirror_mode": {
    "name": "ipython",
    "version": 3
   },
   "file_extension": ".py",
   "mimetype": "text/x-python",
   "name": "python",
   "nbconvert_exporter": "python",
   "pygments_lexer": "ipython3",
   "version": "3.8.11"
  }
 },
 "nbformat": 4,
 "nbformat_minor": 4
}
